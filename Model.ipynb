{
 "cells": [
  {
   "cell_type": "code",
   "execution_count": null,
   "metadata": {
    "id": "sPD4xO8RETK9"
   },
   "outputs": [],
   "source": [
    "import numpy as np\n",
    "import pandas as pd\n",
    "import matplotlib.pyplot as plt\n",
    "import seaborn as sns"
   ]
  },
  {
   "cell_type": "code",
   "execution_count": null,
   "metadata": {
    "colab": {
     "base_uri": "https://localhost:8080/"
    },
    "id": "2CQyqElGODYd",
    "outputId": "1a8a9727-4752-4105-ebc1-70babf0d422a"
   },
   "outputs": [
    {
     "name": "stdout",
     "output_type": "stream",
     "text": [
      "Drive already mounted at /content/drive; to attempt to forcibly remount, call drive.mount(\"/content/drive\", force_remount=True).\n"
     ]
    }
   ],
   "source": [
    "from google.colab import drive\n",
    "drive.mount('/content/drive')"
   ]
  },
  {
   "cell_type": "code",
   "execution_count": null,
   "metadata": {
    "id": "ZUqmXcs1FiRG"
   },
   "outputs": [],
   "source": [
    "df=pd.read_json(r'/content/drive/MyDrive/TFD/Cell_Phones_and_Accessories_5 (1).json', lines = True)"
   ]
  },
  {
   "cell_type": "code",
   "execution_count": null,
   "metadata": {
    "colab": {
     "base_uri": "https://localhost:8080/",
     "height": 391
    },
    "id": "RGyVJEGCF6Rp",
    "outputId": "4ed9f646-3e21-487f-95dc-8a5aa25c6227"
   },
   "outputs": [
    {
     "data": {
      "text/html": [
       "<div>\n",
       "<style scoped>\n",
       "    .dataframe tbody tr th:only-of-type {\n",
       "        vertical-align: middle;\n",
       "    }\n",
       "\n",
       "    .dataframe tbody tr th {\n",
       "        vertical-align: top;\n",
       "    }\n",
       "\n",
       "    .dataframe thead th {\n",
       "        text-align: right;\n",
       "    }\n",
       "</style>\n",
       "<table border=\"1\" class=\"dataframe\">\n",
       "  <thead>\n",
       "    <tr style=\"text-align: right;\">\n",
       "      <th></th>\n",
       "      <th>reviewerID</th>\n",
       "      <th>asin</th>\n",
       "      <th>reviewerName</th>\n",
       "      <th>helpful</th>\n",
       "      <th>reviewText</th>\n",
       "      <th>overall</th>\n",
       "      <th>summary</th>\n",
       "      <th>unixReviewTime</th>\n",
       "      <th>reviewTime</th>\n",
       "    </tr>\n",
       "  </thead>\n",
       "  <tbody>\n",
       "    <tr>\n",
       "      <th>0</th>\n",
       "      <td>A30TL5EWN6DFXT</td>\n",
       "      <td>120401325X</td>\n",
       "      <td>christina</td>\n",
       "      <td>[0, 0]</td>\n",
       "      <td>They look good and stick good! I just don't like the rounded shape because I was always bumping it and Siri kept popping up and it was irritating. I just won't buy a product like this again</td>\n",
       "      <td>4</td>\n",
       "      <td>Looks Good</td>\n",
       "      <td>1400630400</td>\n",
       "      <td>05 21, 2014</td>\n",
       "    </tr>\n",
       "    <tr>\n",
       "      <th>1</th>\n",
       "      <td>ASY55RVNIL0UD</td>\n",
       "      <td>120401325X</td>\n",
       "      <td>emily l.</td>\n",
       "      <td>[0, 0]</td>\n",
       "      <td>These stickers work like the review says they do. They stick on great and they stay on the phone. They are super stylish and I can share them with my sister. :)</td>\n",
       "      <td>5</td>\n",
       "      <td>Really great product.</td>\n",
       "      <td>1389657600</td>\n",
       "      <td>01 14, 2014</td>\n",
       "    </tr>\n",
       "    <tr>\n",
       "      <th>2</th>\n",
       "      <td>A2TMXE2AFO7ONB</td>\n",
       "      <td>120401325X</td>\n",
       "      <td>Erica</td>\n",
       "      <td>[0, 0]</td>\n",
       "      <td>These are awesome and make my phone look so stylish! I have only used one so far and have had it on for almost a year! CAN YOU BELIEVE THAT! ONE YEAR!! Great quality!</td>\n",
       "      <td>5</td>\n",
       "      <td>LOVE LOVE LOVE</td>\n",
       "      <td>1403740800</td>\n",
       "      <td>06 26, 2014</td>\n",
       "    </tr>\n",
       "    <tr>\n",
       "      <th>3</th>\n",
       "      <td>AWJ0WZQYMYFQ4</td>\n",
       "      <td>120401325X</td>\n",
       "      <td>JM</td>\n",
       "      <td>[4, 4]</td>\n",
       "      <td>Item arrived in great time and was in perfect condition. However, I ordered these buttons because they were a great deal and included a FREE screen protector. I never received one. Though its not ...</td>\n",
       "      <td>4</td>\n",
       "      <td>Cute!</td>\n",
       "      <td>1382313600</td>\n",
       "      <td>10 21, 2013</td>\n",
       "    </tr>\n",
       "    <tr>\n",
       "      <th>4</th>\n",
       "      <td>ATX7CZYFXI1KW</td>\n",
       "      <td>120401325X</td>\n",
       "      <td>patrice m rogoza</td>\n",
       "      <td>[2, 3]</td>\n",
       "      <td>awesome! stays on, and looks great. can be used on multiple apple products.  especially having nails, it helps to have an elevated key.</td>\n",
       "      <td>5</td>\n",
       "      <td>leopard home button sticker for iphone 4s</td>\n",
       "      <td>1359849600</td>\n",
       "      <td>02 3, 2013</td>\n",
       "    </tr>\n",
       "  </tbody>\n",
       "</table>\n",
       "</div>"
      ],
      "text/plain": [
       "       reviewerID        asin  ... unixReviewTime   reviewTime\n",
       "0  A30TL5EWN6DFXT  120401325X  ...     1400630400  05 21, 2014\n",
       "1   ASY55RVNIL0UD  120401325X  ...     1389657600  01 14, 2014\n",
       "2  A2TMXE2AFO7ONB  120401325X  ...     1403740800  06 26, 2014\n",
       "3   AWJ0WZQYMYFQ4  120401325X  ...     1382313600  10 21, 2013\n",
       "4   ATX7CZYFXI1KW  120401325X  ...     1359849600   02 3, 2013\n",
       "\n",
       "[5 rows x 9 columns]"
      ]
     },
     "execution_count": 72,
     "metadata": {
      "tags": []
     },
     "output_type": "execute_result"
    }
   ],
   "source": [
    "df.head()"
   ]
  },
  {
   "cell_type": "code",
   "execution_count": null,
   "metadata": {
    "colab": {
     "base_uri": "https://localhost:8080/"
    },
    "id": "LiI_ScBtHQuZ",
    "outputId": "922a69fa-d224-425b-c21b-d6f6d73a24e4"
   },
   "outputs": [
    {
     "data": {
      "text/plain": [
       "5    108664\n",
       "4     39993\n",
       "3     21439\n",
       "1     13279\n",
       "2     11064\n",
       "Name: overall, dtype: int64"
      ]
     },
     "execution_count": 73,
     "metadata": {
      "tags": []
     },
     "output_type": "execute_result"
    }
   ],
   "source": [
    "df['overall'].value_counts()"
   ]
  },
  {
   "cell_type": "code",
   "execution_count": null,
   "metadata": {
    "colab": {
     "base_uri": "https://localhost:8080/"
    },
    "id": "ShdIppQHHZNw",
    "outputId": "2cc06e4c-5662-40bf-e1d1-4b15177d36e1"
   },
   "outputs": [
    {
     "data": {
      "text/plain": [
       "reviewerID           0\n",
       "asin                 0\n",
       "reviewerName      3519\n",
       "helpful              0\n",
       "reviewText           0\n",
       "overall              0\n",
       "summary              0\n",
       "unixReviewTime       0\n",
       "reviewTime           0\n",
       "dtype: int64"
      ]
     },
     "execution_count": 74,
     "metadata": {
      "tags": []
     },
     "output_type": "execute_result"
    }
   ],
   "source": [
    "df.isnull().sum()"
   ]
  },
  {
   "cell_type": "code",
   "execution_count": null,
   "metadata": {
    "colab": {
     "base_uri": "https://localhost:8080/",
     "height": 572
    },
    "id": "ZuRKLdEKSMBp",
    "outputId": "b4234072-9542-40f5-9933-087392266080"
   },
   "outputs": [
    {
     "data": {
      "text/html": [
       "<div>\n",
       "<style scoped>\n",
       "    .dataframe tbody tr th:only-of-type {\n",
       "        vertical-align: middle;\n",
       "    }\n",
       "\n",
       "    .dataframe tbody tr th {\n",
       "        vertical-align: top;\n",
       "    }\n",
       "\n",
       "    .dataframe thead th {\n",
       "        text-align: right;\n",
       "    }\n",
       "</style>\n",
       "<table border=\"1\" class=\"dataframe\">\n",
       "  <thead>\n",
       "    <tr style=\"text-align: right;\">\n",
       "      <th></th>\n",
       "      <th>text</th>\n",
       "      <th>summary</th>\n",
       "    </tr>\n",
       "  </thead>\n",
       "  <tbody>\n",
       "    <tr>\n",
       "      <th>0</th>\n",
       "      <td>They look good and stick good! I just don't like the rounded shape because I was always bumping it and Siri kept popping up and it was irritating. I just won't buy a product like this again</td>\n",
       "      <td>Looks Good</td>\n",
       "    </tr>\n",
       "    <tr>\n",
       "      <th>1</th>\n",
       "      <td>These stickers work like the review says they do. They stick on great and they stay on the phone. They are super stylish and I can share them with my sister. :)</td>\n",
       "      <td>Really great product.</td>\n",
       "    </tr>\n",
       "    <tr>\n",
       "      <th>2</th>\n",
       "      <td>These are awesome and make my phone look so stylish! I have only used one so far and have had it on for almost a year! CAN YOU BELIEVE THAT! ONE YEAR!! Great quality!</td>\n",
       "      <td>LOVE LOVE LOVE</td>\n",
       "    </tr>\n",
       "    <tr>\n",
       "      <th>3</th>\n",
       "      <td>Item arrived in great time and was in perfect condition. However, I ordered these buttons because they were a great deal and included a FREE screen protector. I never received one. Though its not ...</td>\n",
       "      <td>Cute!</td>\n",
       "    </tr>\n",
       "    <tr>\n",
       "      <th>4</th>\n",
       "      <td>awesome! stays on, and looks great. can be used on multiple apple products.  especially having nails, it helps to have an elevated key.</td>\n",
       "      <td>leopard home button sticker for iphone 4s</td>\n",
       "    </tr>\n",
       "    <tr>\n",
       "      <th>...</th>\n",
       "      <td>...</td>\n",
       "      <td>...</td>\n",
       "    </tr>\n",
       "    <tr>\n",
       "      <th>194434</th>\n",
       "      <td>Works great just like my original one. I really need extras of these for the car and house so love this and the price!</td>\n",
       "      <td>This works just perfect!</td>\n",
       "    </tr>\n",
       "    <tr>\n",
       "      <th>194435</th>\n",
       "      <td>Great product. Great packaging. High quality and apple certified. Works greats. This was a good replacement for my apple cable that is falling apart. I highly recommend this cable.</td>\n",
       "      <td>Great replacement cable. Apple certified</td>\n",
       "    </tr>\n",
       "    <tr>\n",
       "      <th>194436</th>\n",
       "      <td>This is a great cable, just as good as the more expensive Apple one. My husband and my daughter both lost their original cables for their iPhones and they went the cheap route, buying a cheap repl...</td>\n",
       "      <td>Real quality</td>\n",
       "    </tr>\n",
       "    <tr>\n",
       "      <th>194437</th>\n",
       "      <td>I really like it becasue it works well with my Life Proof case. I do not have to remove the case to charge my phone.</td>\n",
       "      <td>I really like it becasue it works well with my Life Proof ...</td>\n",
       "    </tr>\n",
       "    <tr>\n",
       "      <th>194438</th>\n",
       "      <td>product as described, I have wasted a lot of money on cords. I would buy them (usually on road trips) and then go to plug my phone in just to discover I have to work with cord and leave my phone s...</td>\n",
       "      <td>I have wasted a lot of money on cords</td>\n",
       "    </tr>\n",
       "  </tbody>\n",
       "</table>\n",
       "<p>194439 rows × 2 columns</p>\n",
       "</div>"
      ],
      "text/plain": [
       "                                                                                                                                                                                                           text                                                        summary\n",
       "0                 They look good and stick good! I just don't like the rounded shape because I was always bumping it and Siri kept popping up and it was irritating. I just won't buy a product like this again                                                     Looks Good\n",
       "1                                              These stickers work like the review says they do. They stick on great and they stay on the phone. They are super stylish and I can share them with my sister. :)                                          Really great product.\n",
       "2                                        These are awesome and make my phone look so stylish! I have only used one so far and have had it on for almost a year! CAN YOU BELIEVE THAT! ONE YEAR!! Great quality!                                                 LOVE LOVE LOVE\n",
       "3       Item arrived in great time and was in perfect condition. However, I ordered these buttons because they were a great deal and included a FREE screen protector. I never received one. Though its not ...                                                          Cute!\n",
       "4                                                                       awesome! stays on, and looks great. can be used on multiple apple products.  especially having nails, it helps to have an elevated key.                      leopard home button sticker for iphone 4s\n",
       "...                                                                                                                                                                                                         ...                                                            ...\n",
       "194434                                                                                   Works great just like my original one. I really need extras of these for the car and house so love this and the price!                                       This works just perfect!\n",
       "194435                     Great product. Great packaging. High quality and apple certified. Works greats. This was a good replacement for my apple cable that is falling apart. I highly recommend this cable.                       Great replacement cable. Apple certified\n",
       "194436  This is a great cable, just as good as the more expensive Apple one. My husband and my daughter both lost their original cables for their iPhones and they went the cheap route, buying a cheap repl...                                                   Real quality\n",
       "194437                                                                                     I really like it becasue it works well with my Life Proof case. I do not have to remove the case to charge my phone.  I really like it becasue it works well with my Life Proof ...\n",
       "194438  product as described, I have wasted a lot of money on cords. I would buy them (usually on road trips) and then go to plug my phone in just to discover I have to work with cord and leave my phone s...                          I have wasted a lot of money on cords\n",
       "\n",
       "[194439 rows x 2 columns]"
      ]
     },
     "execution_count": 75,
     "metadata": {
      "tags": []
     },
     "output_type": "execute_result"
    }
   ],
   "source": [
    "pre = df[['reviewText', 'summary']]\n",
    "pre['text'] = pre['reviewText']\n",
    "\n",
    "pre = pre[['text', 'summary']]\n",
    "\n",
    "pre"
   ]
  },
  {
   "cell_type": "code",
   "execution_count": null,
   "metadata": {
    "colab": {
     "base_uri": "https://localhost:8080/"
    },
    "id": "5sxk6LzDSlqs",
    "outputId": "a16292de-2fa4-4a2f-fc3f-c610eccf1ed0"
   },
   "outputs": [
    {
     "data": {
      "text/plain": [
       "0              They look good and stick good! I just don't like the rounded shape because I was always bumping it and Siri kept popping up and it was irritating. I just won't buy a product like this again\n",
       "1                                           These stickers work like the review says they do. They stick on great and they stay on the phone. They are super stylish and I can share them with my sister. :)\n",
       "2                                     These are awesome and make my phone look so stylish! I have only used one so far and have had it on for almost a year! CAN YOU BELIEVE THAT! ONE YEAR!! Great quality!\n",
       "3    Item arrived in great time and was in perfect condition. However, I ordered these buttons because they were a great deal and included a FREE screen protector. I never received one. Though its not ...\n",
       "4                                                                    awesome! stays on, and looks great. can be used on multiple apple products.  especially having nails, it helps to have an elevated key.\n",
       "5                                                                               These make using the home button easy. My daughter and I both like them.  I would purchase them again. Well worth the price.\n",
       "6                                                                                 Came just as described.. It doesn't come unstuck and its cute! People ask where I got them from & it's great when driving.\n",
       "7                                                                                                                  it worked for the first week then it only charge my phone to 20%. it is a waste of money.\n",
       "8    Good case, solid build. Protects phone all around with good access to buttons. Battery charges with full battery lasts me a full day. I usually leave my house around 7am and return at 10pm. I'm gl...\n",
       "9    This is a fantastic case. Very stylish and protects my phone. Easy access to all buttons and features, without any loss of phone reception. But most importantly, it double power, just as promised....\n",
       "Name: text, dtype: object"
      ]
     },
     "execution_count": 76,
     "metadata": {
      "tags": []
     },
     "output_type": "execute_result"
    }
   ],
   "source": [
    "#LSTM with Attention\n",
    "#pip install keras-self-attention\n",
    "\n",
    "pre['text'][:10]"
   ]
  },
  {
   "cell_type": "markdown",
   "metadata": {
    "id": "leLtdF8fS__0"
   },
   "source": [
    "# Data Cleaning"
   ]
  },
  {
   "cell_type": "code",
   "execution_count": null,
   "metadata": {
    "id": "qE1Vk-WnSzyR"
   },
   "outputs": [],
   "source": [
    "import re\n",
    "\n",
    "#Removes non-alphabetic characters:\n",
    "def text_strip(column):\n",
    "    for row in column:\n",
    "        \n",
    "        #ORDER OF REGEX IS VERY VERY IMPORTANT!!!!!!\n",
    "        \n",
    "        row=re.sub(\"(\\\\t)\", ' ', str(row)).lower() #remove escape charecters\n",
    "        row=re.sub(\"(\\\\r)\", ' ', str(row)).lower() \n",
    "        row=re.sub(\"(\\\\n)\", ' ', str(row)).lower()\n",
    "        \n",
    "        row=re.sub(\"(__+)\", ' ', str(row)).lower()   #remove _ if it occors more than one time consecutively\n",
    "        row=re.sub(\"(--+)\", ' ', str(row)).lower()   #remove - if it occors more than one time consecutively\n",
    "        row=re.sub(\"(~~+)\", ' ', str(row)).lower()   #remove ~ if it occors more than one time consecutively\n",
    "        row=re.sub(\"(\\+\\++)\", ' ', str(row)).lower()   #remove + if it occors more than one time consecutively\n",
    "        row=re.sub(\"(\\.\\.+)\", ' ', str(row)).lower()   #remove . if it occors more than one time consecutively\n",
    "        \n",
    "        row=re.sub(r\"[<>()|&©ø\\[\\]\\'\\\",;?~*!]\", ' ', str(row)).lower() #remove <>()|&©ø\"',;?~*!\n",
    "        \n",
    "        row=re.sub(\"(mailto:)\", ' ', str(row)).lower() #remove mailto:\n",
    "        row=re.sub(r\"(\\\\x9\\d)\", ' ', str(row)).lower() #remove \\x9* in text\n",
    "        row=re.sub(\"([iI][nN][cC]\\d+)\", 'INC_NUM', str(row)).lower() #replace INC nums to INC_NUM\n",
    "        row=re.sub(\"([cC][mM]\\d+)|([cC][hH][gG]\\d+)\", 'CM_NUM', str(row)).lower() #replace CM# and CHG# to CM_NUM\n",
    "        \n",
    "        \n",
    "        row=re.sub(\"(\\.\\s+)\", ' ', str(row)).lower() #remove full stop at end of words(not between)\n",
    "        row=re.sub(\"(\\-\\s+)\", ' ', str(row)).lower() #remove - at end of words(not between)\n",
    "        row=re.sub(\"(\\:\\s+)\", ' ', str(row)).lower() #remove : at end of words(not between)\n",
    "        \n",
    "        row=re.sub(\"(\\s+.\\s+)\", ' ', str(row)).lower() #remove any single charecters hanging between 2 spaces\n",
    "        \n",
    "        #Replace any url as such https://abc.xyz.net/browse/sdf-5327 ====> abc.xyz.net\n",
    "        try:\n",
    "            url = re.search(r'((https*:\\/*)([^\\/\\s]+))(.[^\\s]+)', str(row))\n",
    "            repl_url = url.group(3)\n",
    "            row = re.sub(r'((https*:\\/*)([^\\/\\s]+))(.[^\\s]+)',repl_url, str(row))\n",
    "        except:\n",
    "            pass #there might be emails with no url in them\n",
    "        \n",
    "\n",
    "        \n",
    "        row = re.sub(\"(\\s+)\",' ',str(row)).lower() #remove multiple spaces\n",
    "        \n",
    "        #Should always be last\n",
    "        row=re.sub(\"(\\s+.\\s+)\", ' ', str(row)).lower() #remove any single charecters hanging between 2 spaces\n",
    "\n",
    "        \n",
    "        \n",
    "        yield row\n"
   ]
  },
  {
   "cell_type": "code",
   "execution_count": null,
   "metadata": {
    "colab": {
     "base_uri": "https://localhost:8080/"
    },
    "id": "_BR_SZvtgFh3",
    "outputId": "b1eb6fdf-ab29-4d52-96dc-91aeb7c076c7"
   },
   "outputs": [
    {
     "name": "stdout",
     "output_type": "stream",
     "text": [
      "Time to clean up everything: 8.45 mins\n"
     ]
    }
   ],
   "source": [
    "brief_cleaning1 = text_strip(pre['text'])\n",
    "brief_cleaning2 = text_strip(pre['summary'])\n",
    "\n",
    "from time import time\n",
    "import spacy\n",
    "nlp = spacy.load('en', disable=['ner', 'parser']) # disabling Named Entity Recognition for speed\n",
    "\n",
    "#Taking advantage of spaCy .pipe() method to speed-up the cleaning process:\n",
    "#If data loss seems to be happening(i.e len(text) = 50 instead of 75 etc etc) in this cell , decrease the batch_size parametre \n",
    "\n",
    "t = time()\n",
    "\n",
    "#Batch the data points into 5000 and run on all cores for faster preprocessing\n",
    "text = [str(doc) for doc in nlp.pipe(brief_cleaning1, batch_size=5000, n_threads=-1)]\n",
    "\n",
    "#Takes 7-8 mins\n",
    "print('Time to clean up everything: {} mins'.format(round((time() - t) / 60, 2)))"
   ]
  },
  {
   "cell_type": "code",
   "execution_count": null,
   "metadata": {
    "colab": {
     "base_uri": "https://localhost:8080/"
    },
    "id": "v_iuZCtagKa-",
    "outputId": "8d576256-913f-47e7-9302-cd5c3ae07540"
   },
   "outputs": [
    {
     "name": "stdout",
     "output_type": "stream",
     "text": [
      "Time to clean up everything: 0.82 mins\n"
     ]
    }
   ],
   "source": [
    "#Taking advantage of spaCy .pipe() method to speed-up the cleaning process:\n",
    "\n",
    "t = time()\n",
    "\n",
    "#Batch the data points into 5000 and run on all cores for faster preprocessing\n",
    "summary = ['_START_ '+ str(doc) + ' _END_' for doc in nlp.pipe(brief_cleaning2, batch_size=5000, n_threads=-1)]\n",
    "\n",
    "#Takes 7-8 mins\n",
    "print('Time to clean up everything: {} mins'.format(round((time() - t) / 60, 2)))"
   ]
  },
  {
   "cell_type": "code",
   "execution_count": null,
   "metadata": {
    "colab": {
     "base_uri": "https://localhost:8080/"
    },
    "id": "-PJWaMt-gkos",
    "outputId": "460f2d68-36b7-4fbf-9a6b-977d872b3f57"
   },
   "outputs": [
    {
     "name": "stdout",
     "output_type": "stream",
     "text": [
      "The text:\n",
      " they look good and stick good just don like the rounded shape because was always bumping it and siri kept popping up and it was irritating just won buy product like this again\n",
      "\n",
      "The summary of the text:\n",
      " _START_ looks good _END_\n"
     ]
    }
   ],
   "source": [
    "print('The text:\\n', text[0])\n",
    "\n",
    "print('\\nThe summary of the text:\\n', summary[0])"
   ]
  },
  {
   "cell_type": "code",
   "execution_count": null,
   "metadata": {
    "colab": {
     "base_uri": "https://localhost:8080/",
     "height": 281
    },
    "id": "_2MStdtYg85F",
    "outputId": "23bdeb7c-4785-4e2f-a475-0b7524487ef6"
   },
   "outputs": [
    {
     "data": {
      "image/png": "[encoded data removed]",
      "text/plain": [
       "<Figure size 432x288 with 2 Axes>"
      ]
     },
     "metadata": {
      "needs_background": "light",
      "tags": []
     },
     "output_type": "display_data"
    }
   ],
   "source": [
    "pre['cleaned_text'] = pd.Series(text)\n",
    "pre['cleaned_summary'] = pd.Series(summary)\n",
    "text_count = []\n",
    "summary_count = []\n",
    "\n",
    "for sent in pre['cleaned_text']:\n",
    "    text_count.append(len(sent.split()))\n",
    "for sent in pre['cleaned_summary']:\n",
    "    summary_count.append(len(sent.split()))\n",
    "\n",
    "graph_df= pd.DataFrame()\n",
    "graph_df['text']=text_count\n",
    "graph_df['summary']=summary_count\n",
    "\n",
    "import matplotlib.pyplot as plt\n",
    "\n",
    "graph_df.hist(bins = 5)\n",
    "plt.show()"
   ]
  },
  {
   "cell_type": "markdown",
   "metadata": {
    "id": "gcuNhx-Y1577"
   },
   "source": [
    "# Check how much % of summary have 0-15 words"
   ]
  },
  {
   "cell_type": "code",
   "execution_count": null,
   "metadata": {
    "colab": {
     "base_uri": "https://localhost:8080/"
    },
    "id": "SFODtndPjC__",
    "outputId": "241bdc49-04dc-4e85-ee87-e550733894c4"
   },
   "outputs": [
    {
     "name": "stdout",
     "output_type": "stream",
     "text": [
      "0.9877030842577877\n"
     ]
    }
   ],
   "source": [
    "\n",
    "cnt=0\n",
    "for i in pre['cleaned_summary']:\n",
    "    if(len(i.split())<=15):\n",
    "        cnt=cnt+1\n",
    "print(cnt/len(pre['cleaned_summary']))"
   ]
  },
  {
   "cell_type": "markdown",
   "metadata": {
    "id": "9UYFpG0h19wl"
   },
   "source": [
    "#Check how much % of text have 0-70 words\n"
   ]
  },
  {
   "cell_type": "code",
   "execution_count": null,
   "metadata": {
    "colab": {
     "base_uri": "https://localhost:8080/"
    },
    "id": "cNcxLvGAjHhu",
    "outputId": "b54bf233-c92f-4c4a-da94-5cc48e8bb02a"
   },
   "outputs": [
    {
     "name": "stdout",
     "output_type": "stream",
     "text": [
      "0.7654071456857935\n"
     ]
    }
   ],
   "source": [
    "cnt=0\n",
    "for i in pre['cleaned_text']:\n",
    "    if(len(i.split())<=100):\n",
    "        cnt=cnt+1\n",
    "print(cnt/len(pre['cleaned_text']))"
   ]
  },
  {
   "cell_type": "markdown",
   "metadata": {
    "id": "58dn46KP2A7P"
   },
   "source": [
    "# Model to summarize the text between 0-15 words for Summary and 0-100 words for Text\n"
   ]
  },
  {
   "cell_type": "code",
   "execution_count": null,
   "metadata": {
    "colab": {
     "base_uri": "https://localhost:8080/",
     "height": 145
    },
    "id": "_4EVDMN4jLrQ",
    "outputId": "38a10c37-16d0-4648-d06e-d2170c50ee4f"
   },
   "outputs": [
    {
     "data": {
      "text/html": [
       "<div>\n",
       "<style scoped>\n",
       "    .dataframe tbody tr th:only-of-type {\n",
       "        vertical-align: middle;\n",
       "    }\n",
       "\n",
       "    .dataframe tbody tr th {\n",
       "        vertical-align: top;\n",
       "    }\n",
       "\n",
       "    .dataframe thead th {\n",
       "        text-align: right;\n",
       "    }\n",
       "</style>\n",
       "<table border=\"1\" class=\"dataframe\">\n",
       "  <thead>\n",
       "    <tr style=\"text-align: right;\">\n",
       "      <th></th>\n",
       "      <th>text</th>\n",
       "      <th>summary</th>\n",
       "    </tr>\n",
       "  </thead>\n",
       "  <tbody>\n",
       "    <tr>\n",
       "      <th>0</th>\n",
       "      <td>they look good and stick good just don like the rounded shape because was always bumping it and siri kept popping up and it was irritating just won buy product like this again</td>\n",
       "      <td>_START_ looks good _END_</td>\n",
       "    </tr>\n",
       "    <tr>\n",
       "      <th>1</th>\n",
       "      <td>these stickers work like the review says they do they stick on great and they stay on the phone they are super stylish and can share them with my sister</td>\n",
       "      <td>_START_ really great product. _END_</td>\n",
       "    </tr>\n",
       "  </tbody>\n",
       "</table>\n",
       "</div>"
      ],
      "text/plain": [
       "                                                                                                                                                                              text                              summary\n",
       "0  they look good and stick good just don like the rounded shape because was always bumping it and siri kept popping up and it was irritating just won buy product like this again             _START_ looks good _END_\n",
       "1                        these stickers work like the review says they do they stick on great and they stay on the phone they are super stylish and can share them with my sister   _START_ really great product. _END_"
      ]
     },
     "execution_count": 84,
     "metadata": {
      "tags": []
     },
     "output_type": "execute_result"
    }
   ],
   "source": [
    "max_text_len=100\n",
    "max_summary_len=15\n",
    "\n",
    "#Select the Summaries and Text between max len defined above.\n",
    "\n",
    "cleaned_text =np.array(pre['cleaned_text'])\n",
    "cleaned_summary=np.array(pre['cleaned_summary'])\n",
    "\n",
    "short_text=[]\n",
    "short_summary=[]\n",
    "\n",
    "for i in range(len(cleaned_text)):\n",
    "    if(len(cleaned_summary[i].split())<=max_summary_len and len(cleaned_text[i].split())<=max_text_len):\n",
    "        short_text.append(cleaned_text[i])\n",
    "        short_summary.append(cleaned_summary[i])\n",
    "        \n",
    "post_pre=pd.DataFrame({'text':short_text,'summary':short_summary})\n",
    "\n",
    "post_pre.head(2)"
   ]
  },
  {
   "cell_type": "markdown",
   "metadata": {
    "id": "lRdx3Od12FJN"
   },
   "source": [
    "# Add sostok and eostok at"
   ]
  },
  {
   "cell_type": "code",
   "execution_count": null,
   "metadata": {
    "colab": {
     "base_uri": "https://localhost:8080/",
     "height": 145
    },
    "id": "hKdUsFsLjZFd",
    "outputId": "a1359b5c-d0eb-40b1-f59f-d210a4355a0d"
   },
   "outputs": [
    {
     "data": {
      "text/html": [
       "<div>\n",
       "<style scoped>\n",
       "    .dataframe tbody tr th:only-of-type {\n",
       "        vertical-align: middle;\n",
       "    }\n",
       "\n",
       "    .dataframe tbody tr th {\n",
       "        vertical-align: top;\n",
       "    }\n",
       "\n",
       "    .dataframe thead th {\n",
       "        text-align: right;\n",
       "    }\n",
       "</style>\n",
       "<table border=\"1\" class=\"dataframe\">\n",
       "  <thead>\n",
       "    <tr style=\"text-align: right;\">\n",
       "      <th></th>\n",
       "      <th>text</th>\n",
       "      <th>summary</th>\n",
       "    </tr>\n",
       "  </thead>\n",
       "  <tbody>\n",
       "    <tr>\n",
       "      <th>0</th>\n",
       "      <td>they look good and stick good just don like the rounded shape because was always bumping it and siri kept popping up and it was irritating just won buy product like this again</td>\n",
       "      <td>sostok _START_ looks good _END_ eostok</td>\n",
       "    </tr>\n",
       "    <tr>\n",
       "      <th>1</th>\n",
       "      <td>these stickers work like the review says they do they stick on great and they stay on the phone they are super stylish and can share them with my sister</td>\n",
       "      <td>sostok _START_ really great product. _END_ eostok</td>\n",
       "    </tr>\n",
       "  </tbody>\n",
       "</table>\n",
       "</div>"
      ],
      "text/plain": [
       "                                                                                                                                                                              text                                            summary\n",
       "0  they look good and stick good just don like the rounded shape because was always bumping it and siri kept popping up and it was irritating just won buy product like this again             sostok _START_ looks good _END_ eostok\n",
       "1                        these stickers work like the review says they do they stick on great and they stay on the phone they are super stylish and can share them with my sister   sostok _START_ really great product. _END_ eostok"
      ]
     },
     "execution_count": 85,
     "metadata": {
      "tags": []
     },
     "output_type": "execute_result"
    }
   ],
   "source": [
    " \n",
    "post_pre['summary'] = post_pre['summary'].apply(lambda x : 'sostok '+ x + ' eostok')\n",
    "post_pre.head(2)"
   ]
  },
  {
   "cell_type": "markdown",
   "metadata": {
    "id": "uLq6Bl7g2Jbi"
   },
   "source": [
    "# Prepare a tokenizer for reviews on training data"
   ]
  },
  {
   "cell_type": "code",
   "execution_count": null,
   "metadata": {
    "id": "3FKgPZRPjh_2"
   },
   "outputs": [],
   "source": [
    "from sklearn.model_selection import train_test_split\n",
    "x_tr,x_val,y_tr,y_val=train_test_split(np.array(post_pre['text']),np.array(post_pre['summary']),test_size=0.1,random_state=0,shuffle=True)\n",
    "\n",
    "#Lets tokenize the text to get the vocab count , you can use Spacy here also.\n",
    "\n",
    "from keras.preprocessing.text import Tokenizer \n",
    "from keras.preprocessing.sequence import pad_sequences\n",
    "\n",
    "x_tokenizer = Tokenizer() \n",
    "x_tokenizer.fit_on_texts(list(x_tr))"
   ]
  },
  {
   "cell_type": "code",
   "execution_count": null,
   "metadata": {
    "colab": {
     "base_uri": "https://localhost:8080/"
    },
    "id": "ZqVawncxlZmm",
    "outputId": "f1866100-f687-468b-cde8-e1242dea0a8b"
   },
   "outputs": [
    {
     "name": "stdout",
     "output_type": "stream",
     "text": [
      "% of rare words in vocabulary: 68.65301801910168\n",
      "Total Coverage of rare words: 0.6868021060816925\n"
     ]
    }
   ],
   "source": [
    "thresh=4\n",
    "\n",
    "cnt=0\n",
    "tot_cnt=0\n",
    "freq=0\n",
    "tot_freq=0\n",
    "\n",
    "for key,value in x_tokenizer.word_counts.items():\n",
    "    tot_cnt=tot_cnt+1\n",
    "    tot_freq=tot_freq+value\n",
    "    if(value<thresh):\n",
    "        cnt=cnt+1\n",
    "        freq=freq+value\n",
    "    \n",
    "print(\"% of rare words in vocabulary:\",(cnt/tot_cnt)*100)\n",
    "print(\"Total Coverage of rare words:\",(freq/tot_freq)*100)"
   ]
  },
  {
   "cell_type": "markdown",
   "metadata": {
    "id": "-MK9AmOG2SvJ"
   },
   "source": [
    "\n",
    "\n",
    "*   Prepare a tokenizer for reviews on training data\n",
    "*   Convert text sequences into integer sequences (i.e one-hot encodeing all the words)\n",
    "*   Padding zero upto maximum length\n",
    "*   Size of vocabulary ( +1 for padding token)\n"
   ]
  },
  {
   "cell_type": "code",
   "execution_count": null,
   "metadata": {
    "colab": {
     "base_uri": "https://localhost:8080/"
    },
    "id": "tICLz3SOleh6",
    "outputId": "5739cd9d-fcc4-4aa4-ca62-76fa17c440a4"
   },
   "outputs": [
    {
     "name": "stdout",
     "output_type": "stream",
     "text": [
      "Size of vocabulary in X = 13031\n"
     ]
    }
   ],
   "source": [
    "\n",
    "x_tokenizer = Tokenizer(num_words=tot_cnt-cnt) \n",
    "x_tokenizer.fit_on_texts(list(x_tr))\n",
    "\n",
    "x_tr_seq    =   x_tokenizer.texts_to_sequences(x_tr) \n",
    "x_val_seq   =   x_tokenizer.texts_to_sequences(x_val)\n",
    "\n",
    "\n",
    "x_tr    =   pad_sequences(x_tr_seq,  maxlen=max_text_len, padding='post')\n",
    "x_val   =   pad_sequences(x_val_seq, maxlen=max_text_len, padding='post')\n",
    "\n",
    "\n",
    "x_voc   =  x_tokenizer.num_words + 1\n",
    "\n",
    "print(\"Size of vocabulary in X = {}\".format(x_voc))"
   ]
  },
  {
   "cell_type": "markdown",
   "metadata": {
    "id": "okBIcezQ2ym9"
   },
   "source": [
    "# Prepare a tokenizer for reviews on training data"
   ]
  },
  {
   "cell_type": "code",
   "execution_count": null,
   "metadata": {
    "colab": {
     "base_uri": "https://localhost:8080/"
    },
    "id": "A690_E4BligY",
    "outputId": "76d66fa3-ec82-4579-c615-6f0f23a7d2ce"
   },
   "outputs": [
    {
     "name": "stdout",
     "output_type": "stream",
     "text": [
      "% of rare words in vocabulary: 75.05241090146751\n",
      "Total Coverage of rare words: 1.5008186832994648\n"
     ]
    }
   ],
   "source": [
    "\n",
    "y_tokenizer = Tokenizer()   \n",
    "y_tokenizer.fit_on_texts(list(y_tr))\n",
    "thresh=6\n",
    "\n",
    "cnt=0\n",
    "tot_cnt=0\n",
    "freq=0\n",
    "tot_freq=0\n",
    "\n",
    "for key,value in y_tokenizer.word_counts.items():\n",
    "    tot_cnt=tot_cnt+1\n",
    "    tot_freq=tot_freq+value\n",
    "    if(value<thresh):\n",
    "        cnt=cnt+1\n",
    "        freq=freq+value\n",
    "    \n",
    "print(\"% of rare words in vocabulary:\",(cnt/tot_cnt)*100)\n",
    "print(\"Total Coverage of rare words:\",(freq/tot_freq)*100)"
   ]
  },
  {
   "cell_type": "markdown",
   "metadata": {
    "id": "9Gm5SXRI23vo"
   },
   "source": [
    "\n",
    "\n",
    "*   Prepare a tokenizer for reviews on training data\n",
    "*   Convert text sequences into integer sequences (i.e one hot encode the text in Y)\n",
    "*   Padding zero upto maximum length\n",
    "*   Size of vocabulary\n",
    "\n"
   ]
  },
  {
   "cell_type": "code",
   "execution_count": null,
   "metadata": {
    "colab": {
     "base_uri": "https://localhost:8080/"
    },
    "id": "upOiZehllpcs",
    "outputId": "63fef02d-f27b-48d1-83fd-8f909ce0f28b"
   },
   "outputs": [
    {
     "name": "stdout",
     "output_type": "stream",
     "text": [
      "Size of vocabulary in Y = 2976\n"
     ]
    }
   ],
   "source": [
    "\n",
    "y_tokenizer = Tokenizer(num_words=tot_cnt-cnt) \n",
    "y_tokenizer.fit_on_texts(list(y_tr))\n",
    "\n",
    "\n",
    "y_tr_seq    =   y_tokenizer.texts_to_sequences(y_tr) \n",
    "y_val_seq   =   y_tokenizer.texts_to_sequences(y_val) \n",
    "\n",
    "\n",
    "y_tr    =   pad_sequences(y_tr_seq, maxlen=max_summary_len, padding='post')\n",
    "y_val   =   pad_sequences(y_val_seq, maxlen=max_summary_len, padding='post')\n",
    "\n",
    "\n",
    "y_voc  =   y_tokenizer.num_words +1\n",
    "print(\"Size of vocabulary in Y = {}\".format(y_voc))"
   ]
  },
  {
   "cell_type": "code",
   "execution_count": null,
   "metadata": {
    "id": "qYQCh6Ysltvw"
   },
   "outputs": [],
   "source": [
    "ind=[]\n",
    "for i in range(len(y_tr)):\n",
    "    cnt=0\n",
    "    for j in y_tr[i]:\n",
    "        if j!=0:\n",
    "            cnt=cnt+1\n",
    "    if(cnt==2):\n",
    "        ind.append(i)\n",
    "\n",
    "y_tr=np.delete(y_tr,ind, axis=0)\n",
    "x_tr=np.delete(x_tr,ind, axis=0)\n",
    "ind=[]\n",
    "for i in range(len(y_val)):\n",
    "    cnt=0\n",
    "    for j in y_val[i]:\n",
    "        if j!=0:\n",
    "            cnt=cnt+1\n",
    "    if(cnt==2):\n",
    "        ind.append(i)\n",
    "\n",
    "y_val=np.delete(y_val,ind, axis=0)\n",
    "x_val=np.delete(x_val,ind, axis=0)"
   ]
  },
  {
   "cell_type": "markdown",
   "metadata": {
    "id": "FRR8Ozr9003I"
   },
   "source": [
    "# Creating Seq2Seq natural processing model\n",
    "\n",
    "We can build a Seq2Seq model on any problem which involves sequential information. This includes Sentiment classification, Neural Machine Translation, and Named Entity Recognition – some very common applications of sequential information.\n",
    "\n",
    "In the case of Neural Machine Translation, the input is a text in one language and the output is also a text in another language:\n",
    "\n",
    "![nmt.jpg.jpg](data:image/jpeg;base64,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)\n",
    "\n",
    "In the Named Entity Recognition, the input is a sequence of words and the output is a sequence of tags for every word in the input sequence:\n",
    "\n",
    "![ner.jpg.jpg](data:image/jpeg;base64,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)\n",
    "\n",
    "\n",
    "Our objective is to build a text summarizer where the input is a long sequence of words (in a text body), and the output is a short summary (which is a sequence as well). So, we can model this as a Many-to-Many Seq2Seq problem. Below is a typical Seq2Seq model architecture:\n"
   ]
  },
  {
   "cell_type": "markdown",
   "metadata": {
    "id": "_5thbOhN8wPQ"
   },
   "source": [
    "![image1.jpg](data:image/jpeg;base64,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)"
   ]
  },
  {
   "cell_type": "code",
   "execution_count": null,
   "metadata": {
    "colab": {
     "base_uri": "https://localhost:8080/"
    },
    "id": "eV3R34rpl1Xw",
    "outputId": "7f39590c-7965-4958-c838-a093871cbcab"
   },
   "outputs": [
    {
     "name": "stdout",
     "output_type": "stream",
     "text": [
      "Size of vocabulary from the w2v model = 13031\n",
      "WARNING:tensorflow:Layer lstm will not use cuDNN kernel since it doesn't meet the cuDNN kernel criteria. It will use generic GPU kernel as fallback when running on GPU\n",
      "WARNING:tensorflow:Layer lstm_1 will not use cuDNN kernel since it doesn't meet the cuDNN kernel criteria. It will use generic GPU kernel as fallback when running on GPU\n",
      "WARNING:tensorflow:Layer lstm_2 will not use cuDNN kernel since it doesn't meet the cuDNN kernel criteria. It will use generic GPU kernel as fallback when running on GPU\n",
      "WARNING:tensorflow:Layer lstm_3 will not use cuDNN kernel since it doesn't meet the cuDNN kernel criteria. It will use generic GPU kernel as fallback when running on GPU\n",
      "Model: \"functional_1\"\n",
      "__________________________________________________________________________________________________\n",
      "Layer (type)                    Output Shape         Param #     Connected to                     \n",
      "==================================================================================================\n",
      "input_1 (InputLayer)            [(None, 100)]        0                                            \n",
      "__________________________________________________________________________________________________\n",
      "embedding (Embedding)           (None, 100, 200)     2606200     input_1[0][0]                    \n",
      "__________________________________________________________________________________________________\n",
      "lstm (LSTM)                     [(None, 100, 300), ( 601200      embedding[0][0]                  \n",
      "__________________________________________________________________________________________________\n",
      "input_2 (InputLayer)            [(None, None)]       0                                            \n",
      "__________________________________________________________________________________________________\n",
      "lstm_1 (LSTM)                   [(None, 100, 300), ( 721200      lstm[0][0]                       \n",
      "__________________________________________________________________________________________________\n",
      "embedding_1 (Embedding)         (None, None, 200)    595200      input_2[0][0]                    \n",
      "__________________________________________________________________________________________________\n",
      "lstm_2 (LSTM)                   [(None, 100, 300), ( 721200      lstm_1[0][0]                     \n",
      "__________________________________________________________________________________________________\n",
      "lstm_3 (LSTM)                   [(None, None, 300),  601200      embedding_1[0][0]                \n",
      "                                                                 lstm_2[0][1]                     \n",
      "                                                                 lstm_2[0][2]                     \n",
      "__________________________________________________________________________________________________\n",
      "time_distributed (TimeDistribut (None, None, 2976)   895776      lstm_3[0][0]                     \n",
      "==================================================================================================\n",
      "Total params: 6,741,976\n",
      "Trainable params: 6,741,976\n",
      "Non-trainable params: 0\n",
      "__________________________________________________________________________________________________\n"
     ]
    }
   ],
   "source": [
    "from keras import backend as K \n",
    "import gensim\n",
    "from numpy import *\n",
    "import numpy as np\n",
    "import pandas as pd \n",
    "import re\n",
    "from bs4 import BeautifulSoup\n",
    "from keras.preprocessing.text import Tokenizer \n",
    "from keras.preprocessing.sequence import pad_sequences\n",
    "from nltk.corpus import stopwords\n",
    "from tensorflow.keras.layers import Input, LSTM, Embedding, Dense, Concatenate, TimeDistributed\n",
    "from tensorflow.keras.models import Model\n",
    "from tensorflow.keras.callbacks import EarlyStopping\n",
    "import warnings\n",
    "pd.set_option(\"display.max_colwidth\", 200)\n",
    "warnings.filterwarnings(\"ignore\")\n",
    "\n",
    "print(\"Size of vocabulary from the w2v model = {}\".format(x_voc))\n",
    "\n",
    "K.clear_session()\n",
    "\n",
    "latent_dim = 300\n",
    "embedding_dim=200\n",
    "\n",
    "# Encoder\n",
    "encoder_inputs = Input(shape=(max_text_len,))\n",
    "\n",
    "#embedding layer\n",
    "enc_emb =  Embedding(x_voc, embedding_dim,trainable=True)(encoder_inputs)\n",
    "\n",
    "#encoder lstm 1\n",
    "encoder_lstm1 = LSTM(latent_dim,return_sequences=True,return_state=True,dropout=0.4,recurrent_dropout=0.4)\n",
    "encoder_output1, state_h1, state_c1 = encoder_lstm1(enc_emb)\n",
    "\n",
    "#encoder lstm 2\n",
    "encoder_lstm2 = LSTM(latent_dim,return_sequences=True,return_state=True,dropout=0.4,recurrent_dropout=0.4)\n",
    "encoder_output2, state_h2, state_c2 = encoder_lstm2(encoder_output1)\n",
    "\n",
    "#encoder lstm 3\n",
    "encoder_lstm3=LSTM(latent_dim, return_state=True, return_sequences=True,dropout=0.4,recurrent_dropout=0.4)\n",
    "encoder_outputs, state_h, state_c= encoder_lstm3(encoder_output2)\n",
    "\n",
    "# Set up the decoder, using `encoder_states` as initial state.\n",
    "decoder_inputs = Input(shape=(None,))\n",
    "\n",
    "#embedding layer\n",
    "dec_emb_layer = Embedding(y_voc, embedding_dim,trainable=True)\n",
    "dec_emb = dec_emb_layer(decoder_inputs)\n",
    "\n",
    "decoder_lstm = LSTM(latent_dim, return_sequences=True, return_state=True,dropout=0.4,recurrent_dropout=0.2)\n",
    "decoder_outputs,decoder_fwd_state, decoder_back_state = decoder_lstm(dec_emb,initial_state=[state_h, state_c])\n",
    "\n",
    "#dense layer\n",
    "decoder_dense =  TimeDistributed(Dense(y_voc, activation='softmax'))\n",
    "decoder_outputs = decoder_dense(decoder_outputs)\n",
    "\n",
    "# Define the model \n",
    "model = Model([encoder_inputs, decoder_inputs], decoder_outputs)\n",
    "\n",
    "model.summary()\n"
   ]
  },
  {
   "cell_type": "markdown",
   "metadata": {
    "id": "Yrut2Yux0xbH"
   },
   "source": [
    "# Training the model"
   ]
  },
  {
   "cell_type": "code",
   "execution_count": null,
   "metadata": {
    "colab": {
     "base_uri": "https://localhost:8080/"
    },
    "id": "ZrAQpjU3l-tV",
    "outputId": "1033a604-511d-4c70-ed7a-57ffb8f8e9cf"
   },
   "outputs": [
    {
     "name": "stdout",
     "output_type": "stream",
     "text": [
      "1040/1040 [==============================] - 1210s 1s/step - loss: 1.4139 - acc: 0.7713 - val_loss: 1.2374 - val_acc: 0.7891\n"
     ]
    }
   ],
   "source": [
    "from keras.callbacks import ModelCheckpoint\n",
    "\n",
    "path_model= '/content/drive/MyDrive/TFD/model_filter.h5' # save model at this location after each epoch\n",
    "model.compile(optimizer='rmsprop', loss='sparse_categorical_crossentropy', metrics= ['acc'])\n",
    "es = EarlyStopping(monitor='val_loss', mode='min', verbose=1,patience=2)\n",
    "\n",
    "history=model.fit([x_tr,y_tr[:,:-1]], y_tr.reshape(y_tr.shape[0],y_tr.shape[1], 1)[:,1:] ,epochs=1,callbacks=[es, ModelCheckpoint(filepath=path_model)],batch_size=128, \n",
    "                  validation_data=([x_val,y_val[:,:-1]], y_val.reshape(y_val.shape[0],y_val.shape[1], 1)[:,1:]))"
   ]
  },
  {
   "cell_type": "code",
   "execution_count": null,
   "metadata": {
    "colab": {
     "base_uri": "https://localhost:8080/",
     "height": 52
    },
    "id": "uPjLOMSgpL7K",
    "outputId": "89bb3e35-ba7b-4c86-bc0e-422b6ad1c484"
   },
   "outputs": [
    {
     "data": {
      "application/vnd.google.colaboratory.intrinsic+json": {
       "type": "string"
      },
      "text/plain": [
       "\"import tensorflow as tf\\npath_model= r'/content/drive/MyDrive/TFD/model_filter.h5' \\n\\nmodel = tf.keras.models.load_model(path_model)\\n\\nprint(model.summary())\""
      ]
     },
     "execution_count": 94,
     "metadata": {
      "tags": []
     },
     "output_type": "execute_result"
    }
   ],
   "source": [
    "import tensorflow as tf\n",
    "path_model= r'/content/drive/MyDrive/TFD/model_filter.h5' \n",
    "\n",
    "model = tf.keras.models.load_model(path_model)\n",
    "\n",
    "print(model.summary())"
   ]
  },
  {
   "cell_type": "markdown",
   "metadata": {
    "id": "I4eqNYxZ0atB"
   },
   "source": [
    "# Encoding input sequence"
   ]
  },
  {
   "cell_type": "code",
   "execution_count": null,
   "metadata": {
    "id": "GWKWxECdpHfY"
   },
   "outputs": [],
   "source": [
    "reverse_target_word_index=y_tokenizer.index_word\n",
    "reverse_source_word_index=x_tokenizer.index_word\n",
    "target_word_index=y_tokenizer.word_index\n",
    "\n",
    "\n",
    "# Encode the input sequence to get the feature vector\n",
    "encoder_model = Model(inputs=encoder_inputs,outputs=[encoder_outputs, state_h, state_c])\n",
    "\n",
    "# Decoder setup\n",
    "# Below tensors will hold the states of the previous time step\n",
    "decoder_state_input_h = Input(shape=(latent_dim,))\n",
    "decoder_state_input_c = Input(shape=(latent_dim,))\n",
    "decoder_hidden_state_input = Input(shape=(max_text_len,latent_dim))\n",
    "\n",
    "# Get the embeddings of the decoder sequence\n",
    "dec_emb2= dec_emb_layer(decoder_inputs) \n",
    "# To predict the next word in the sequence, set the initial states to the states from the previous time step\n",
    "decoder_outputs2, state_h2, state_c2 = decoder_lstm(dec_emb2, initial_state=[decoder_state_input_h, decoder_state_input_c])\n",
    "\n",
    "# A dense softmax layer to generate prob dist. over the target vocabulary\n",
    "decoder_outputs2 = decoder_dense(decoder_outputs2) \n",
    "\n",
    "# Final decoder model\n",
    "decoder_model = Model(\n",
    "    [decoder_inputs] + [decoder_hidden_state_input,decoder_state_input_h, decoder_state_input_c],\n",
    "    [decoder_outputs2] + [state_h2, state_c2])"
   ]
  },
  {
   "cell_type": "markdown",
   "metadata": {
    "id": "zP1LEpI20IRp"
   },
   "source": [
    "# To retreive the decoded summary text from Seq2Seq natural processing model. "
   ]
  },
  {
   "cell_type": "code",
   "execution_count": null,
   "metadata": {
    "colab": {
     "base_uri": "https://localhost:8080/"
    },
    "id": "qgf0JRp7BVce",
    "outputId": "7a6f0c9e-b0fc-48f4-deda-0c6018fcb6d8"
   },
   "outputs": [
    {
     "name": "stdout",
     "output_type": "stream",
     "text": [
      "Review: fantastic cases and great price for of them made of runner but more of hard plastic ish rubber good buy for anyone with lumia 520 \n",
      "Original summary: start great cases end \n",
      "Predicted summary:  start great end\n",
      "\n",
      "\n",
      "Review: great piece use this watch everyday battery lady about week charges real fast i needed water proof watch which this does great my only issue had which could be bad and was is the band gave me major so guess to it so had to just put barrier in between the watch and my skin duct tape for temporary will have to order watch band on line people alway comment on it all the time \n",
      "Original summary: start great smart watch end \n",
      "Predicted summary:  start works great end\n",
      "\n",
      "\n",
      "Review: big and bulky very expensive rubber case will not fit into pouch seems too loose as fit \n",
      "Original summary: start ok just to big end \n",
      "Predicted summary:  start great case end\n",
      "\n",
      "\n",
      "Review: what can say it an android plush it nice and soft comes with little cloth bag the jersey is removable also if you want the plain android look \n",
      "Original summary: start great end \n",
      "Predicted summary:  start great end\n",
      "\n",
      "\n",
      "Review: bought it for my daughter this is an excellent item especially when you are in an area with 4g coverage you will get around 8 download speed nice screen fast processor the only down side is poor battery life get an external battery or the extended battery and this would be the best phone you can buy for virgin mobile yes better than the iphone due to unlimited superfast 4g \n",
      "Original summary: start great phone except for battery life end \n",
      "Predicted summary:  start works great end\n",
      "\n",
      "\n",
      "Review: this product was exactly as advertised have not installed these yet so don want to comment any further good seller \n",
      "Original summary: start came as promised end \n",
      "Predicted summary:  start great end\n",
      "\n",
      "\n"
     ]
    }
   ],
   "source": [
    "def decode_sequence(input_seq):\n",
    "    # Encode the input as state vectors.\n",
    "    e_out, e_h, e_c = encoder_model.predict(input_seq)\n",
    "    \n",
    "    #print(e_out, e_h, e_c) \n",
    "    \n",
    "    # Generate empty target sequence of length 1.\n",
    "    target_seq = np.zeros((1,1))\n",
    "    \n",
    "    # Populate the first word of target sequence with the start word.\n",
    "    target_seq[0, 0] = target_word_index['sostok']\n",
    "\n",
    "    stop_condition = False\n",
    "    decoded_sentence = ''\n",
    "    while not stop_condition:\n",
    "      \n",
    "        output_tokens, h, c = decoder_model.predict([target_seq] + [e_out, e_h, e_c])\n",
    "\n",
    "        # Sample a token\n",
    "        sampled_token_index = np.argmax(output_tokens[0, -1, :])\n",
    "        sampled_token = reverse_target_word_index[sampled_token_index]\n",
    "        \n",
    "        if(sampled_token!='eostok'):\n",
    "            decoded_sentence += ' '+sampled_token\n",
    "\n",
    "        # Exit condition: either hit max length or find stop word.\n",
    "        if (sampled_token == 'eostok'  or len(decoded_sentence.split()) >= (max_summary_len-1)):\n",
    "            stop_condition = True\n",
    "\n",
    "        # Update the target sequence (of length 1).\n",
    "        target_seq = np.zeros((1,1))\n",
    "        target_seq[0, 0] = sampled_token_index\n",
    "\n",
    "        # Update internal states\n",
    "        e_h, e_c = h, c\n",
    "\n",
    "    return decoded_sentence\n",
    "\n",
    "#Let us define the functions to convert an integer sequence to a word sequence for summary as well as the reviews:\n",
    "\n",
    "def seq2summary(input_seq):\n",
    "    newString=''\n",
    "    for i in input_seq:\n",
    "        if((i!=0 and i!=target_word_index['sostok']) and i!=target_word_index['eostok']):\n",
    "            newString=newString+reverse_target_word_index[i]+' '\n",
    "    return newString\n",
    "\n",
    "def seq2text(input_seq):\n",
    "    newString=''\n",
    "    for i in input_seq:\n",
    "        if(i!=0):\n",
    "            newString=newString+reverse_source_word_index[i]+' '\n",
    "    return newString\n",
    "\n",
    "# Run the model over the data to see the results\n",
    "\n",
    "for i in range(0,6):\n",
    "    print(\"Review:\",seq2text(x_tr[i]))\n",
    "    print(\"Original summary:\",seq2summary(y_tr[i]))\n",
    "    print(\"Predicted summary:\",decode_sequence(x_tr[i].reshape(1,max_text_len)))\n",
    "    print(\"\\n\")"
   ]
  },
  {
   "cell_type": "markdown",
   "metadata": {
    "id": "MQS8Sw29z7Gg"
   },
   "source": [
    "# To extract Subjects from the predicted summary: "
   ]
  },
  {
   "cell_type": "code",
   "execution_count": null,
   "metadata": {
    "id": "mvT8wyl7EZex"
   },
   "outputs": [],
   "source": [
    "import requests\n",
    "r = df\n",
    "\n",
    "from bs4 import BeautifulSoup\n",
    "soup = BeautifulSoup(r.text, 'html.parser')\n",
    "title = soup.find('title').get_text()\n",
    "document = ' '.join([p.get_text() for p in soup.find_all('p')])\n",
    "\n",
    "document = re.sub(‘[^A-Za-z .-]+’, ‘ ‘, document)\n",
    "document = ‘ ‘.join(document.split())\n",
    "document = ‘ ‘.join([i for i in document.split() if i not in stop])\n",
    "\n",
    "words = nltk.tokenize.word_tokenize(document)\n",
    "words = [word.lower() for word in words if word not in stop]\n",
    "fdist = nltk.FreqDist(words)\n",
    "most_freq_nouns = [w for w, c in fdist.most_common(10)\n",
    "                   if nltk.pos_tag([w])[0][1] in NOUNS]\n",
    "\n",
    "subject_nouns = [entity for entity in top_10_entities\n",
    "                 if entity.split()[0] in most_freq_nouns]\n",
    "\n",
    "train_sents = nltk.corpus.brown.tagged_sents()\n",
    "train_sents += nltk.corpus.conll2000.tagged_sents()\n",
    "train_sents += nltk.corpus.treebank.tagged_sents()\n",
    "\n",
    "# Create instance of SubjectTrigramTagger\n",
    "trigram_tagger = SubjectTrigramTagger(train_sents)"
   ]
  },
  {
   "cell_type": "markdown",
   "metadata": {
    "id": "Vyrnsih33ecB"
   },
   "source": [
    "# Output Format \n",
    "\n",
    "## 1. Predicted Summary text \n",
    "## 2. Extracting this summary text\n",
    "```\n",
    "start great case end\n",
    "```\n",
    "## to \n",
    "```\n",
    "great case\n",
    "```\n",
    "## 3. Extract subject from this sentence as \n",
    "\n",
    "```\n",
    "case\n",
    "```\n",
    "## 4. Voila! The retrieved subject from  the sentence is the tag we were looking for. "
   ]
  }
 ],
 "metadata": {
  "accelerator": "GPU",
  "colab": {
   "collapsed_sections": [],
   "name": "Ecommerce Review.ipynb",
   "provenance": []
  },
  "kernelspec": {
   "display_name": "Python 3",
   "language": "python",
   "name": "python3"
  },
  "language_info": {
   "codemirror_mode": {
    "name": "ipython",
    "version": 3
   },
   "file_extension": ".py",
   "mimetype": "text/x-python",
   "name": "python",
   "nbconvert_exporter": "python",
   "pygments_lexer": "ipython3",
   "version": "3.8.5"
  }
 },
 "nbformat": 4,
 "nbformat_minor": 1
}
